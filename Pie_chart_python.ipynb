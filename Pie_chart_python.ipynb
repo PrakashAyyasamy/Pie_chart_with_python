{
  "nbformat": 4,
  "nbformat_minor": 0,
  "metadata": {
    "colab": {
      "name": "Pie_chart_python.ipynb",
      "provenance": []
    },
    "kernelspec": {
      "name": "python3",
      "display_name": "Python 3"
    },
    "language_info": {
      "name": "python"
    }
  },
  "cells": [
    {
      "cell_type": "code",
      "execution_count": null,
      "metadata": {
        "id": "dVEfyNB_kAYy"
      },
      "outputs": [],
      "source": [
        "from matplotlib import pyplot as plt\n",
        "plt.style.use('fivethirtyeight')\n",
        "\n",
        "\n",
        "slices=[35917, 36443, 47544, 55466, 59219]\n",
        "labels=['Java(35917)', 'Python(36443)', 'SQL(47544)', 'HTML/CSS(55466)', 'JavaScript(59219)']\n",
        "explode = [0.1,0,0.0,0.2,0]\n",
        "\n",
        "\n",
        "plt.pie(slices,explode=explode,labels=labels,shadow=True,startangle=90,autopct='%1.1f%%',wedgeprops={'edgecolor':\"black\"})\n",
        "\n",
        "\n",
        "\n",
        "plt.title(\"Language pie chart\")\n",
        "plt.tight_layout()\n",
        "plt.show()"
      ]
    }
  ]
}